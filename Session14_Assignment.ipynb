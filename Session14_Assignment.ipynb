{
 "cells": [
  {
   "cell_type": "code",
   "execution_count": 1,
   "metadata": {},
   "outputs": [],
   "source": [
    "#Imports\n",
    "from polygon import Polygon\n",
    "from polygon_sequence_type import PolygonSeqType"
   ]
  },
  {
   "cell_type": "code",
   "execution_count": 2,
   "metadata": {},
   "outputs": [
    {
     "data": {
      "text/plain": [
       "Polygon(Edges, n = 3, CircumRadius, R = 4)"
      ]
     },
     "execution_count": 2,
     "metadata": {},
     "output_type": "execute_result"
    }
   ],
   "source": [
    "x1 = Polygon(3, 4)\n",
    "x1"
   ]
  },
  {
   "cell_type": "markdown",
   "metadata": {},
   "source": [
    "#### Immutability of Polygon Class"
   ]
  },
  {
   "cell_type": "code",
   "execution_count": 3,
   "metadata": {},
   "outputs": [
    {
     "name": "stdout",
     "output_type": "stream",
     "text": [
      "Error thrown while setting the new value for edges [can't set attribute]\n"
     ]
    }
   ],
   "source": [
    "#Try changing the properties of x1 and it throws error\n",
    "#This helps in understanding the immutability of the Polygon class\n",
    "try:\n",
    "    x1.edges = 10\n",
    "except AttributeError as e:\n",
    "    print(f'Error thrown while setting the new value for edges [{e}]')"
   ]
  },
  {
   "cell_type": "markdown",
   "metadata": {},
   "source": [
    "#### Lazy Loading of the Properties of the Polygon Object"
   ]
  },
  {
   "cell_type": "code",
   "execution_count": 4,
   "metadata": {},
   "outputs": [
    {
     "name": "stdout",
     "output_type": "stream",
     "text": [
      "Calculating interior angle\n"
     ]
    },
    {
     "data": {
      "text/plain": [
       "60.0"
      ]
     },
     "execution_count": 4,
     "metadata": {},
     "output_type": "execute_result"
    }
   ],
   "source": [
    "x1.interior_angle"
   ]
  },
  {
   "cell_type": "code",
   "execution_count": 5,
   "metadata": {},
   "outputs": [
    {
     "name": "stdout",
     "output_type": "stream",
     "text": [
      "Re-using previously computed interior angle\n"
     ]
    },
    {
     "data": {
      "text/plain": [
       "60.0"
      ]
     },
     "execution_count": 5,
     "metadata": {},
     "output_type": "execute_result"
    }
   ],
   "source": [
    "#Re-accessing the same property - It should return the previously computed value and should not re-compute\n",
    "x1.interior_angle"
   ]
  },
  {
   "cell_type": "code",
   "execution_count": 6,
   "metadata": {},
   "outputs": [
    {
     "name": "stdout",
     "output_type": "stream",
     "text": [
      "Calculating apothem\n"
     ]
    },
    {
     "data": {
      "text/plain": [
       "4.0"
      ]
     },
     "execution_count": 6,
     "metadata": {},
     "output_type": "execute_result"
    }
   ],
   "source": [
    "x1.apothem"
   ]
  },
  {
   "cell_type": "code",
   "execution_count": 7,
   "metadata": {},
   "outputs": [
    {
     "name": "stdout",
     "output_type": "stream",
     "text": [
      "Calculating area\n",
      "Calculating edge_len\n",
      "Re-using previously computed apothem\n"
     ]
    },
    {
     "data": {
      "text/plain": [
       "41.5692"
      ]
     },
     "execution_count": 7,
     "metadata": {},
     "output_type": "execute_result"
    }
   ],
   "source": [
    "x1.area"
   ]
  },
  {
   "cell_type": "markdown",
   "metadata": {},
   "source": [
    "#### Checking whether PolygonSeqType class is both Iterable and Iterator or not"
   ]
  },
  {
   "cell_type": "code",
   "execution_count": 8,
   "metadata": {},
   "outputs": [],
   "source": [
    "def check_iterable():\n",
    "    \"\"\"\n",
    "    Checks if PolygonSeqType class is an iterable or not\n",
    "    \"\"\"\n",
    "    try:\n",
    "        x1 = PolygonSeqType(5, 6)\n",
    "        if '__iter__' not in dir(x1):\n",
    "            return False\n",
    "        iter(x1)\n",
    "        return True\n",
    "    except TypeError:\n",
    "        return False"
   ]
  },
  {
   "cell_type": "code",
   "execution_count": 9,
   "metadata": {},
   "outputs": [],
   "source": [
    "assert True == check_iterable(), \"PolygonSeqType is not an Iterable!\""
   ]
  },
  {
   "cell_type": "code",
   "execution_count": 10,
   "metadata": {},
   "outputs": [],
   "source": [
    "def check_iterator():\n",
    "    \"\"\"\n",
    "    Checks if PolygonSeqType class is an iterator or not\n",
    "    \"\"\"\n",
    "    try:\n",
    "        x1 = PolygonSeqType(5, 6)\n",
    "        for item in x1:\n",
    "            pass\n",
    "        return True\n",
    "    except TypeError:\n",
    "        return False"
   ]
  },
  {
   "cell_type": "code",
   "execution_count": 11,
   "metadata": {},
   "outputs": [],
   "source": [
    "assert True == check_iterator(), \"PolygonSeqType is not an Iterator!\""
   ]
  },
  {
   "cell_type": "markdown",
   "metadata": {},
   "source": [
    "#### Checking Lazy Loading for the properties of PolygonSeqType Class"
   ]
  },
  {
   "cell_type": "code",
   "execution_count": 12,
   "metadata": {},
   "outputs": [
    {
     "data": {
      "text/plain": [
       "PolygonSeqType(Vertices (of largest Polygon) = 5, Common Circum_Radius, R = 4)"
      ]
     },
     "execution_count": 12,
     "metadata": {},
     "output_type": "execute_result"
    }
   ],
   "source": [
    "x1 = PolygonSeqType(5, 4)\n",
    "x1"
   ]
  },
  {
   "cell_type": "code",
   "execution_count": 13,
   "metadata": {},
   "outputs": [
    {
     "name": "stdout",
     "output_type": "stream",
     "text": [
      "Calculating Max Efficiency Polygon\n"
     ]
    },
    {
     "data": {
      "text/plain": [
       "'Yet to calculate Max Efficiency [0]-- access some objects of Polygon'"
      ]
     },
     "execution_count": 13,
     "metadata": {},
     "output_type": "execute_result"
    }
   ],
   "source": [
    "#Access Max Efficiency for the poly_seq object -> It returns zero since no item is accessed from poly_seq object\n",
    "x1.max_efficiency"
   ]
  },
  {
   "cell_type": "code",
   "execution_count": 14,
   "metadata": {},
   "outputs": [
    {
     "data": {
      "text/plain": [
       "Polygon(Edges, n = 3, CircumRadius, R = 4)"
      ]
     },
     "execution_count": 14,
     "metadata": {},
     "output_type": "execute_result"
    }
   ],
   "source": [
    "#Creates a polygon with edges 3, circum_radius = 4\n",
    "#Also the maximum efficiency will be calculated only for this element\n",
    "x1[0]"
   ]
  },
  {
   "cell_type": "code",
   "execution_count": 15,
   "metadata": {},
   "outputs": [
    {
     "name": "stdout",
     "output_type": "stream",
     "text": [
      "Calculating Max Efficiency Polygon\n",
      "Calculating area\n",
      "Calculating edge_len\n",
      "Calculating apothem\n",
      "Calculating perimeter\n",
      "Re-using previously computed edge length\n"
     ]
    },
    {
     "data": {
      "text/plain": [
       "'Max Efficiency Polygon is Polygon(Edges, n = 3, CircumRadius, R = 4)'"
      ]
     },
     "execution_count": 15,
     "metadata": {},
     "output_type": "execute_result"
    }
   ],
   "source": [
    "x1.max_efficiency"
   ]
  },
  {
   "cell_type": "code",
   "execution_count": 16,
   "metadata": {},
   "outputs": [
    {
     "data": {
      "text/plain": [
       "[Polygon(Edges, n = 3, CircumRadius, R = 4),\n",
       " Polygon(Edges, n = 4, CircumRadius, R = 4),\n",
       " Polygon(Edges, n = 5, CircumRadius, R = 4)]"
      ]
     },
     "execution_count": 16,
     "metadata": {},
     "output_type": "execute_result"
    }
   ],
   "source": [
    "#Access all the available Polygons\n",
    "list(x1)"
   ]
  },
  {
   "cell_type": "code",
   "execution_count": 17,
   "metadata": {},
   "outputs": [
    {
     "name": "stdout",
     "output_type": "stream",
     "text": [
      "Calculating Max Efficiency Polygon\n",
      "Re-using previously computed area\n",
      "Re-using previously computed perimeter\n",
      "Calculating area\n",
      "Calculating edge_len\n",
      "Calculating apothem\n",
      "Calculating perimeter\n",
      "Re-using previously computed edge length\n",
      "Calculating area\n",
      "Calculating edge_len\n",
      "Calculating apothem\n",
      "Calculating perimeter\n",
      "Re-using previously computed edge length\n",
      "Calculating area\n",
      "Calculating edge_len\n",
      "Calculating apothem\n",
      "Calculating perimeter\n",
      "Re-using previously computed edge length\n"
     ]
    },
    {
     "data": {
      "text/plain": [
       "'Max Efficiency Polygon is Polygon(Edges, n = 5, CircumRadius, R = 4)'"
      ]
     },
     "execution_count": 17,
     "metadata": {},
     "output_type": "execute_result"
    }
   ],
   "source": [
    "#Re-computes the max-efficiency to suit the available Polygons and returns new value\n",
    "x1.max_efficiency"
   ]
  },
  {
   "cell_type": "code",
   "execution_count": null,
   "metadata": {},
   "outputs": [],
   "source": []
  }
 ],
 "metadata": {
  "kernelspec": {
   "display_name": "Python 3",
   "language": "python",
   "name": "python3"
  },
  "language_info": {
   "codemirror_mode": {
    "name": "ipython",
    "version": 3
   },
   "file_extension": ".py",
   "mimetype": "text/x-python",
   "name": "python",
   "nbconvert_exporter": "python",
   "pygments_lexer": "ipython3",
   "version": "3.6.8"
  }
 },
 "nbformat": 4,
 "nbformat_minor": 2
}
